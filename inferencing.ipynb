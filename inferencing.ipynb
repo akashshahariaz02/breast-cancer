{
 "cells": [
  {
   "cell_type": "code",
   "execution_count": 6,
   "id": "4f178fbc-577f-4d50-8463-c4f5a219a166",
   "metadata": {},
   "outputs": [],
   "source": [
    "import os\n",
    "import csv\n",
    "import torch\n",
    "import numpy as np\n",
    "from PIL import Image\n",
    "from pathlib import Path\n",
    "from tqdm.notebook import tqdm\n",
    "from torchvision.transforms.functional import to_tensor\n",
    "from torchvision.models.efficientnet import efficientnet_v2_s"
   ]
  },
  {
   "cell_type": "code",
   "execution_count": 9,
   "id": "1c434355-6891-484e-a71b-27dcd1804974",
   "metadata": {},
   "outputs": [],
   "source": [
    "path = \"/scratch/chakraborty.de/python/cs6140-final-project/data/\"\n",
    "feature_path = os.path.join(str(Path(path).parents[0]), \"features.csv\")"
   ]
  },
  {
   "cell_type": "code",
   "execution_count": 10,
   "id": "de87c0c0-dec4-424e-a5cb-715b54a2e389",
   "metadata": {},
   "outputs": [],
   "source": [
    "model = efficientnet_v2_s(weights=\"DEFAULT\")"
   ]
  },
  {
   "cell_type": "code",
   "execution_count": 4,
   "id": "1b71695c-ea6e-4ae8-85c9-681d5f1fdc51",
   "metadata": {},
   "outputs": [],
   "source": [
    "with open(feature_path, \"r\") as f:\n",
    "    reader = csv.reader(f, delimiter=',')\n",
    "    done = [row[0] for row in reader]"
   ]
  },
  {
   "cell_type": "code",
   "execution_count": 5,
   "id": "892e0a68-e4d1-4af2-8463-046e35199b24",
   "metadata": {},
   "outputs": [
    {
     "data": {
      "application/vnd.jupyter.widget-view+json": {
       "model_id": "a063c40dbfc343f48cfd9a77242554e6",
       "version_major": 2,
       "version_minor": 0
      },
      "text/plain": [
       "  0%|          | 0/54706 [00:00<?, ?it/s]"
      ]
     },
     "metadata": {},
     "output_type": "display_data"
    }
   ],
   "source": [
    "with open(feature_path, \"a\", newline=\"\\n\") as f:\n",
    "    writer = csv.writer(f)\n",
    "    for image_name in tqdm(os.listdir(path)):\n",
    "        if image_name not in done:\n",
    "            image_path = os.path.join(path, image_name)\n",
    "            with Image.open(image_path) as img:\n",
    "                img = img.convert(\"RGB\")\n",
    "                model.eval()\n",
    "                with torch.no_grad():\n",
    "                    feature = model(to_tensor(img).unsqueeze(0))\n",
    "                    row = [image_name]\n",
    "                    row.extend(np.squeeze(feature.numpy()).tolist())\n",
    "                    writer.writerow(row)"
   ]
  }
 ],
 "metadata": {
  "kernelspec": {
   "display_name": "Python 3",
   "language": "python",
   "name": "python3"
  },
  "language_info": {
   "codemirror_mode": {
    "name": "ipython",
    "version": 3
   },
   "file_extension": ".py",
   "mimetype": "text/x-python",
   "name": "python",
   "nbconvert_exporter": "python",
   "pygments_lexer": "ipython3",
   "version": "3.8.8"
  }
 },
 "nbformat": 4,
 "nbformat_minor": 5
}
